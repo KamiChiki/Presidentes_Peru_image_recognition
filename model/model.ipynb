{
 "cells": [
  {
   "cell_type": "code",
   "execution_count": 1,
   "metadata": {},
   "outputs": [],
   "source": [
    "#### Importar librerias \n",
    "\n",
    "import pandas as pd\n",
    "import numpy as np\n",
    "import matplotlib.pyplot as plt\n",
    "import seaborn as sns\n",
    "import warnings\n",
    "import os\n",
    "import glob\n",
    "from PIL import Image\n",
    "warnings.filterwarnings('ignore')\n",
    "\n",
    "#### Definir directorio\n",
    "os.chdir('../')"
   ]
  },
  {
   "cell_type": "code",
   "execution_count": 2,
   "metadata": {},
   "outputs": [
    {
     "data": {
      "text/plain": [
       "'c:\\\\Users\\\\aleja\\\\Documents\\\\Pry_ADySP\\\\Presidentes_Peru_image_recognition'"
      ]
     },
     "execution_count": 2,
     "metadata": {},
     "output_type": "execute_result"
    }
   ],
   "source": [
    "os.getcwd()"
   ]
  },
  {
   "cell_type": "code",
   "execution_count": 3,
   "metadata": {},
   "outputs": [],
   "source": [
    "#### Procesa imagenes para homolagar \n",
    "def get_images(path):\n",
    "    images = []\n",
    "    for img_path in glob.glob(path): \n",
    "        img = Image.open(img_path).convert('RGB')\n",
    "        img = img.resize((250,250))\n",
    "        img = np.array(img)\n",
    "        images.append(img)\n",
    "    return np.array(images)    "
   ]
  },
  {
   "cell_type": "code",
   "execution_count": 5,
   "metadata": {},
   "outputs": [
    {
     "name": "stdout",
     "output_type": "stream",
     "text": [
      "End processing: 1.Valentin Paniagua\n",
      "End processing: 2.Alejandro Toledo\n",
      "End processing: 3.Alan Garcia\n",
      "End processing: 4.Ollanta Humala\n",
      "End processing: 5.Pedro Pablo Kuczynski\n",
      "End processing: 6.Martin Vizcarra\n",
      "End processing: 7.Manuel Merino\n",
      "End processing: 8.Francisco Sagasti\n",
      "End processing: 9.Pedro Castillo\n",
      "End processing: 10.Dina Boluarte\n"
     ]
    }
   ],
   "source": [
    "#### Lista de presidentes de la ultima decada \n",
    "presidentes = ['1.Valentin Paniagua', '2.Alejandro Toledo', '3.Alan Garcia', '4.Ollanta Humala', '5.Pedro Pablo Kuczynski', '6.Martin Vizcarra', '7.Manuel Merino', '8.Francisco Sagasti', '9.Pedro Castillo', '10.Dina Boluarte']\n",
    "\n",
    "all_images = []\n",
    "\n",
    "for presidentes in presidentes :\n",
    "    images = get_images(f'data_set/{presidentes}/*')\n",
    "    all_images.append(images)\n",
    "    print(f'End processing: {presidentes}')"
   ]
  },
  {
   "cell_type": "code",
   "execution_count": 6,
   "metadata": {},
   "outputs": [],
   "source": [
    "#### Creamos las clases para cada presidente \n",
    "images = []\n",
    "classes = [0, 1, 2, 3, 4, 5, 6, 7, 8, 9]\n",
    "y = []\n",
    "\n",
    "for class_ in classes:\n",
    "    for i in range(0, len(all_images[class_])):\n",
    "        images.append(all_images[class_][i,:,:,:])\n",
    "        y.append(class_)"
   ]
  },
  {
   "cell_type": "code",
   "execution_count": 7,
   "metadata": {},
   "outputs": [],
   "source": [
    "#### separamos la data para entrenamiento\n",
    "from sklearn.model_selection import train_test_split\n",
    "\n",
    "x_train, x_test, y_train, y_test = train_test_split(images, y, test_size=0.2, random_state=122)\n"
   ]
  },
  {
   "cell_type": "code",
   "execution_count": 8,
   "metadata": {},
   "outputs": [],
   "source": [
    "from tensorflow.keras.utils import to_categorical\n",
    "x_train_esc = np.array(x_train)/255\n",
    "x_test_esc = np.array(x_test)/255\n",
    "\n",
    "y_train_cat = to_categorical(y_train)"
   ]
  },
  {
   "cell_type": "code",
   "execution_count": 12,
   "metadata": {},
   "outputs": [
    {
     "name": "stdout",
     "output_type": "stream",
     "text": [
      "(248, 250, 250, 3)\n"
     ]
    }
   ],
   "source": [
    "print(x_test_esc.shape)"
   ]
  },
  {
   "cell_type": "code",
   "execution_count": 16,
   "metadata": {},
   "outputs": [],
   "source": [
    "\n",
    "import tensorflow as tf\n",
    "from tensorflow.keras.models import Sequential\n",
    "from tensorflow.keras.layers import Conv2D, MaxPooling2D, Flatten, Dense\n",
    "from tensorflow.keras.optimizers import Adam\n",
    "from tensorflow.keras.utils import to_categorical\n",
    "\n",
    "\n",
    "model = Sequential([\n",
    "    Conv2D(32, (3, 3), activation='relu', input_shape=(250, 250, 3)),\n",
    "    MaxPooling2D((2, 2)),\n",
    "    Conv2D(64, (3, 3), activation='relu'),\n",
    "    MaxPooling2D((2, 2)),\n",
    "    Conv2D(128, (3, 3), activation='relu'),\n",
    "    MaxPooling2D((2, 2)),\n",
    "    Flatten(),\n",
    "    Dense(128, activation='relu'),  # Puedes agregar una capa densa intermedia para más capacidad\n",
    "    Dense(10, activation='softmax')\n",
    "])\n",
    "\n",
    "\n",
    "model.compile(optimizer = Adam(learning_rate = 0.001),\n",
    "              loss = 'categorical_crossentropy',  ### Modelos multiclass\n",
    "              metrics = ['accuracy'])"
   ]
  },
  {
   "cell_type": "code",
   "execution_count": 17,
   "metadata": {},
   "outputs": [
    {
     "name": "stdout",
     "output_type": "stream",
     "text": [
      "Epoch 1/10\n",
      "\u001b[1m32/32\u001b[0m \u001b[32m━━━━━━━━━━━━━━━━━━━━\u001b[0m\u001b[37m\u001b[0m \u001b[1m8s\u001b[0m 228ms/step - accuracy: 0.1399 - loss: 3.1923 - val_accuracy: 0.1616 - val_loss: 2.2667\n",
      "Epoch 2/10\n",
      "\u001b[1m32/32\u001b[0m \u001b[32m━━━━━━━━━━━━━━━━━━━━\u001b[0m\u001b[37m\u001b[0m \u001b[1m7s\u001b[0m 222ms/step - accuracy: 0.2027 - loss: 2.1978 - val_accuracy: 0.2475 - val_loss: 2.0620\n",
      "Epoch 3/10\n",
      "\u001b[1m32/32\u001b[0m \u001b[32m━━━━━━━━━━━━━━━━━━━━\u001b[0m\u001b[37m\u001b[0m \u001b[1m7s\u001b[0m 214ms/step - accuracy: 0.4124 - loss: 1.6810 - val_accuracy: 0.3384 - val_loss: 2.1932\n",
      "Epoch 4/10\n",
      "\u001b[1m32/32\u001b[0m \u001b[32m━━━━━━━━━━━━━━━━━━━━\u001b[0m\u001b[37m\u001b[0m \u001b[1m7s\u001b[0m 216ms/step - accuracy: 0.8034 - loss: 0.7215 - val_accuracy: 0.3485 - val_loss: 2.8440\n",
      "Epoch 5/10\n",
      "\u001b[1m32/32\u001b[0m \u001b[32m━━━━━━━━━━━━━━━━━━━━\u001b[0m\u001b[37m\u001b[0m \u001b[1m7s\u001b[0m 215ms/step - accuracy: 0.9572 - loss: 0.1943 - val_accuracy: 0.3283 - val_loss: 4.9078\n",
      "Epoch 6/10\n",
      "\u001b[1m32/32\u001b[0m \u001b[32m━━━━━━━━━━━━━━━━━━━━\u001b[0m\u001b[37m\u001b[0m \u001b[1m7s\u001b[0m 215ms/step - accuracy: 0.9926 - loss: 0.0296 - val_accuracy: 0.3586 - val_loss: 5.4804\n",
      "Epoch 7/10\n",
      "\u001b[1m32/32\u001b[0m \u001b[32m━━━━━━━━━━━━━━━━━━━━\u001b[0m\u001b[37m\u001b[0m \u001b[1m7s\u001b[0m 216ms/step - accuracy: 0.9982 - loss: 0.0085 - val_accuracy: 0.3434 - val_loss: 4.4538\n",
      "Epoch 8/10\n",
      "\u001b[1m32/32\u001b[0m \u001b[32m━━━━━━━━━━━━━━━━━━━━\u001b[0m\u001b[37m\u001b[0m \u001b[1m7s\u001b[0m 213ms/step - accuracy: 0.9979 - loss: 0.0178 - val_accuracy: 0.3737 - val_loss: 6.3831\n",
      "Epoch 9/10\n",
      "\u001b[1m32/32\u001b[0m \u001b[32m━━━━━━━━━━━━━━━━━━━━\u001b[0m\u001b[37m\u001b[0m \u001b[1m7s\u001b[0m 215ms/step - accuracy: 0.9922 - loss: 0.0189 - val_accuracy: 0.3838 - val_loss: 6.1481\n",
      "Epoch 10/10\n",
      "\u001b[1m32/32\u001b[0m \u001b[32m━━━━━━━━━━━━━━━━━━━━\u001b[0m\u001b[37m\u001b[0m \u001b[1m7s\u001b[0m 215ms/step - accuracy: 0.9898 - loss: 0.0355 - val_accuracy: 0.3232 - val_loss: 6.8782\n"
     ]
    },
    {
     "data": {
      "text/plain": [
       "<keras.src.callbacks.history.History at 0x21e063d0980>"
      ]
     },
     "execution_count": 17,
     "metadata": {},
     "output_type": "execute_result"
    }
   ],
   "source": [
    "#### entrenar fit\n",
    "\n",
    "model.fit(x_train_esc, y_train_cat, epochs= 10, batch_size =25, validation_split = 0.2)"
   ]
  },
  {
   "cell_type": "code",
   "execution_count": 18,
   "metadata": {},
   "outputs": [
    {
     "name": "stdout",
     "output_type": "stream",
     "text": [
      "\u001b[1m31/31\u001b[0m \u001b[32m━━━━━━━━━━━━━━━━━━━━\u001b[0m\u001b[37m\u001b[0m \u001b[1m2s\u001b[0m 75ms/step\n"
     ]
    }
   ],
   "source": [
    "preds = model.predict(x_train_esc)"
   ]
  }
 ],
 "metadata": {
  "kernelspec": {
   "display_name": "Python 3",
   "language": "python",
   "name": "python3"
  },
  "language_info": {
   "codemirror_mode": {
    "name": "ipython",
    "version": 3
   },
   "file_extension": ".py",
   "mimetype": "text/x-python",
   "name": "python",
   "nbconvert_exporter": "python",
   "pygments_lexer": "ipython3",
   "version": "3.12.4"
  }
 },
 "nbformat": 4,
 "nbformat_minor": 2
}
